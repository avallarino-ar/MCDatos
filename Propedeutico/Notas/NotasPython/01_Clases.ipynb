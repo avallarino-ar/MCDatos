{
 "cells": [
  {
   "cell_type": "markdown",
   "metadata": {},
   "source": [
    "# Clase:"
   ]
  },
  {
   "cell_type": "code",
   "execution_count": 56,
   "metadata": {},
   "outputs": [],
   "source": [
    "class Persona:\n",
    "    \"\"\" Calse de Python de Personas \"\"\"\n",
    "    def __init__(self, nombre, edad, altura, peso, pos = 0):\n",
    "        self.nombre = nombre\n",
    "        self.edad = edad\n",
    "        self.altura = altura\n",
    "        self.peso = peso\n",
    "        self.pos = 0\n",
    "        \n",
    "    def gordura(self):\n",
    "        \"\"\" Metodo para determinar la gordura \"\"\"\n",
    "        return self.peso / self.altura\n",
    "    \n",
    "    def camina(self, pasos):\n",
    "        \"\"\" Metodo para caminar \"\"\"\n",
    "        self.pos += pasos\n",
    "        self.peso -= abs(pasos) / 1000\n",
    "        print(\"Moviendose \" + str(pasos) + \n",
    "                \" pasos a la posición \" + str(self.pos) + \n",
    "                \" adelgazando \" + str(self.peso) )"
   ]
  },
  {
   "cell_type": "code",
   "execution_count": 57,
   "metadata": {},
   "outputs": [
    {
     "data": {
      "text/plain": [
       "{'altura': 175, 'edad': 30, 'nombre': 'Juan', 'peso': 80, 'pos': 0}"
      ]
     },
     "execution_count": 57,
     "metadata": {},
     "output_type": "execute_result"
    }
   ],
   "source": [
    "p1 = Persona(\"Juan\", 30, 175, 80)\n",
    "p1.__dict__"
   ]
  },
  {
   "cell_type": "code",
   "execution_count": 58,
   "metadata": {},
   "outputs": [
    {
     "data": {
      "text/plain": [
       "0.45714285714285713"
      ]
     },
     "execution_count": 58,
     "metadata": {},
     "output_type": "execute_result"
    }
   ],
   "source": [
    "p1.gordura()"
   ]
  },
  {
   "cell_type": "code",
   "execution_count": 59,
   "metadata": {},
   "outputs": [
    {
     "name": "stdout",
     "output_type": "stream",
     "text": [
      "Moviendose 5 pasos a la posición 5 adelgazando 79.995\n"
     ]
    }
   ],
   "source": [
    "p1.camina(5)"
   ]
  },
  {
   "cell_type": "markdown",
   "metadata": {},
   "source": [
    "# Herencia"
   ]
  },
  {
   "cell_type": "code",
   "execution_count": 74,
   "metadata": {},
   "outputs": [],
   "source": [
    "class Programador(Persona):\n",
    "    def __init__(self, nombre, edad, altura, peso, lenguaje,pos = 0):\n",
    "        Persona.__init__(self, nombre, edad, altura, peso, pos = 0)\n",
    "        self.lenguaje = lenguaje"
   ]
  },
  {
   "cell_type": "code",
   "execution_count": 75,
   "metadata": {},
   "outputs": [],
   "source": [
    "seiya = Programador(\"El Brayan\", 21, 170, 100, {\"Python\", \"R\", \"C\"})"
   ]
  }
 ],
 "metadata": {
  "kernelspec": {
   "display_name": "Python 3",
   "language": "python",
   "name": "python3"
  },
  "language_info": {
   "codemirror_mode": {
    "name": "ipython",
    "version": 3
   },
   "file_extension": ".py",
   "mimetype": "text/x-python",
   "name": "python",
   "nbconvert_exporter": "python",
   "pygments_lexer": "ipython3",
   "version": "3.6.1"
  }
 },
 "nbformat": 4,
 "nbformat_minor": 2
}
