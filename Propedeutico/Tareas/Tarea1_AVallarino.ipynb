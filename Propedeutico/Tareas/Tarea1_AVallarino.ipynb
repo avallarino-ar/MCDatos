{
 "cells": [
  {
   "cell_type": "markdown",
   "metadata": {},
   "source": [
    "# Creando una sistema de Algebra Lineal\n",
    "### Ariel Vallarino"
   ]
  },
  {
   "cell_type": "markdown",
   "metadata": {},
   "source": [
    "### Creo clase con métodos para realizar operaciones de álgebra lineal con vectores y matrices"
   ]
  },
  {
   "cell_type": "code",
   "execution_count": 2,
   "metadata": {
    "collapsed": true
   },
   "outputs": [],
   "source": [
    "class Array:    \n",
    "    #----------[ Metodo constructor y validador:\n",
    "    def __init__(self, list_of_rows): \n",
    "        \"\"\" Metodo Constructor y Validador\n",
    "        2. Un validador\n",
    "        \n",
    "        Parámetros:\n",
    "        .- list_of_rows: lista de arrays que asigna al atributo DATA \n",
    "        y ademas en SHAPE define la dimensión del mismo.\n",
    "        \n",
    "        Ejemplo: \n",
    "            A = Array([[1,2,3],[4,5,6],[7,8,9]])\n",
    "        \"\"\"\n",
    "        # obtener dimensiones\n",
    "        self.data = list_of_rows\n",
    "        nrow = len(list_of_rows)\n",
    "        \n",
    "        #  ___caso vector: redimensionar correctamente\n",
    "        if not isinstance(list_of_rows[0], list):\n",
    "            nrow = 1\n",
    "            self.data = [[x] for x in list_of_rows]\n",
    "        \n",
    "        # ahora las columnas deben estar bien aunque sea un vector\n",
    "        ncol = len(self.data[0])\n",
    "        self.shape = (nrow, ncol)\n",
    "        \n",
    "        # validar tamano correcto de filas\n",
    "        if any([len(r) != ncol for r in self.data]):\n",
    "            raise Exception(\"Las filas deben ser del mismo tamano\")\n",
    "    #---------- Metodo constructor y validador ].\n",
    "    \n",
    "    \n",
    "    #----------[ Metodo para imprimir sin función Print:\n",
    "    def __repr__(self):\n",
    "        \"\"\" 1.1. Un metodo para imprimir mejor...\n",
    "        Metodo para imprimir un Array sin utilizar print\n",
    "        \"\"\"\n",
    "        nrow, ncol = self.shape\n",
    "        data_out  = \"array([\"\n",
    "        data_line = \"[\"\n",
    "          \n",
    "        # Obtengo Max. longitud de los valores para generar empacio entre las columnas:\n",
    "        espacio = max(max([[len(str(self.data[i][j])) for i in range(nrow)] for j in range(ncol)]))                                         \n",
    "        \n",
    "        for i in range(nrow):\n",
    "            data_line  = \"[\" + str(\", \".join(map(lambda i: ('{:2}'.format(i)).rjust(espacio), self.data[i]))) + \"]\"\n",
    "            if i < (nrow - 1):\n",
    "                data_out += data_line + \",\\n       \"\n",
    "            else: \n",
    "                data_out += data_line + \"])\"\n",
    "                                \n",
    "        return (data_out)\n",
    "    #---------- Metodo para imprimir sin función Print ].\n",
    " \n",
    "\n",
    "    #----------[ Metodo para imprimir con función Print: \n",
    "    def __str__(self):\n",
    "        \"\"\" 1.2. Un metodo para imprimir mejor...\n",
    "        Metodo para imprimir un Array utilizando print\n",
    "        \n",
    "        \"\"\"      \n",
    "        nrow, ncol = self.shape\n",
    "        data_out  = \"[\"\n",
    "        data_line = \"[\"\n",
    "        \n",
    "        espacio = max(max([[len(str(self.data[i][j])) for i in range(nrow)] for j in range(ncol)]))                                  \n",
    "        \n",
    "        for i in range(nrow):\n",
    "            data_line  = \"[\" + str(\" \".join(map(lambda i: ('{:2}'.format(i)).rjust(espacio), self.data[i]))) + \"]\"\n",
    "           \n",
    "            if i < (nrow - 1):\n",
    "                data_out += data_line + \"\\n \"\n",
    "            else: \n",
    "                data_out += data_line + \"]\"\n",
    "                                \n",
    "        return (data_out)\n",
    "    #---------- Metodo para imprimir con función Print ].\n",
    "    \n",
    "    \n",
    "    #----------[ Metodo para obtener un item: \n",
    "    def __getitem__(self, idx):\n",
    "        \"\"\" 3.1. Indexing and Item assignment\n",
    "        Retorna un item \"\"\"    \n",
    "        return self.data[idx[0]][idx[1]]        \n",
    "    #---------- Metodo para obtener un item ].\n",
    "    \n",
    "    \n",
    "    #----------[ Metodo para modificar un item:\n",
    "    def __setitem__(self, idx, new_value):\n",
    "        \"\"\" 3.2. Indexing and Item assignment\n",
    "        Modifica el valor de un item particular \"\"\"               \n",
    "        self.data[idx[0]][idx[1]] = new_value            \n",
    "        print(\"Item modificado.\")        \n",
    "    #---------- Metodo para modificar un item ].\n",
    "    \n",
    "    \n",
    "    #----------[ Función para crear Matriz de Ceros:\n",
    "    def zeros(shape): \n",
    "        \"\"\" 4.1. Iniciar una matriz en Ceros\n",
    "        Genera un Array de Ceros de la dimensión indicada\n",
    "        \n",
    "        Parametros\n",
    "        ----------\n",
    "        shape: (n,m) -> n filas x m columnas\n",
    "        \"\"\"        \n",
    "        if isinstance(shape, tuple):\n",
    "            nrow, ncol = shape\n",
    "        elif isinstance(shape, int):\n",
    "            nrow = ncol = shape        \n",
    "        else:\n",
    "            raise Exception(\"Parámetro no definido.\")\n",
    "        \n",
    "        newArray = Array([[0 for i in range(ncol)] for j in range(nrow)])      \n",
    "        return newArray\n",
    "    #---------- Función para crear Matriz de Ceros ]. \n",
    "    \n",
    "\n",
    "    #----------[ Función para crear Matriz Identidad:\n",
    "    def eye(n,m=0,k=0):\n",
    "        \"\"\" 4.2. Iniciar una matriz con Unos en la diagonal\n",
    "        \n",
    "        Parametros\n",
    "        ----------\n",
    "        n: Número de filas\n",
    "        m: Número de columnas (opcional)\n",
    "           Por defecto m = n\n",
    "        k: Desplaza la diagonal (opcional)\n",
    "           k = 0: Daigonal principal (valor por defect)\n",
    "           k > 0: Diagonal superior\n",
    "           k < 0: Diagonal inferior\n",
    "        \"\"\"\n",
    "        if m == 0: m = idxy = n\n",
    "        elif n > m: idxy = n\n",
    "        else: idxy = m\n",
    "            \n",
    "        idx = 0\n",
    "        idy = 0\n",
    "            \n",
    "        if k == 0: \n",
    "            newArray = Array([[0 if i is not j else 1 for i in range(n)] for j in range(m)])      \n",
    "        else:\n",
    "            newArray = Array.zeros((n,m))            \n",
    "            for i in range(idxy):\n",
    "                idx = idy = i            \n",
    "                if k > 0:\n",
    "                    idy += k \n",
    "                    if (idx < n) & (idy < m):\n",
    "                        # Asigno 1 a la diagonal\n",
    "                        newArray.data[idx][idy] = 1.0  \n",
    "                else:                        \n",
    "                    idx += abs(k)                     \n",
    "                    if (idx < n) & (idy < m) & (idx >= 0):\n",
    "                        # Asigno 1 a la diagonal\n",
    "                        newArray.data[idx][idy] = 1.0  \n",
    "                \n",
    "        return newArray\n",
    "    #---------- Función para crear Matriz Identidad ].\n",
    "    \n",
    "    \n",
    "    #----------[ Metodo para generar la matriz transpuesta:\n",
    "    def transpose(self):\n",
    "        \"\"\" 5. Transposicion\n",
    "        Calcula la Transpuesta de una matriz\n",
    "        \"\"\"\n",
    "        nrow, ncol = self.shape\n",
    "        return Array([[self.data[j][i] for j in range(nrow)] for i in range(ncol)])\n",
    "    #---------- Metodo para generar la matriz transpuesta ].\n",
    "    \n",
    "    \n",
    "    #----------[ Metodo para sumar arrays:\n",
    "    def __add__(self, other):\n",
    "        \"\"\" 6.1. Suma\n",
    "        Suma Arrays\n",
    "        \"\"\"\n",
    "        if isinstance(other, Array):\n",
    "            if self.shape != other.shape:\n",
    "                raise Exception(\"Las dimensiones son distintas!\")\n",
    "            rows, cols = self.shape\n",
    "            newArray = Array([[0. for c in range(cols)] for r in range(rows)])\n",
    "            for r in range(rows):\n",
    "                for c in range(cols):\n",
    "                    newArray.data[r][c] = self.data[r][c] + other.data[r][c]\n",
    "            return newArray\n",
    "        elif isinstance(2, (int, float, complex)): # en caso de que el lado derecho sea solo un numero\n",
    "            rows, cols = self.shape\n",
    "            newArray = Array([[0. for c in range(cols)] for r in range(rows)])\n",
    "            for r in range(rows):\n",
    "                for c in range(cols):\n",
    "                    newArray.data[r][c] = self.data[r][c] + other\n",
    "            return newArray\n",
    "        else:\n",
    "            return NotImplemented # es un tipo de error particular usado en estos metodos\n",
    "    #---------- Metodo para sumar arrays ].\n",
    "\n",
    "\n",
    "    #----------[ Metodo para sumar arrays:\n",
    "    def __radd__(self, other):\n",
    "        \"\"\" 6.2. Suma\n",
    "        Suma Arrays\n",
    "        \"\"\"\n",
    "        return self.__add__(other)\n",
    "    #---------- Metodo para sumar arrays ].\n",
    "    \n",
    "    \n",
    "    #----------[ Metodo para restar arrays:\n",
    "    def __sub__(self, other):\n",
    "        \"\"\"  6.3. Resta \n",
    "        Resta Arrays\n",
    "        \"\"\"         \n",
    "        if isinstance(other, Array):\n",
    "            if self.shape != other.shape:\n",
    "                raise Exception(\"Las dimensiones son distintas!\")\n",
    "            rows, cols = self.shape\n",
    "            newArray = Array([[0. for c in range(cols)] for r in range(rows)])\n",
    "            for r in range(rows):\n",
    "                for c in range(cols):\n",
    "                    newArray.data[r][c] = self.data[r][c] - other.data[r][c]\n",
    "            return newArray\n",
    "        elif isinstance(2, (int, float, complex)): # en caso de que el lado derecho sea solo un numero\n",
    "            rows, cols = self.shape\n",
    "            newArray = Array([[0. for c in range(cols)] for r in range(rows)])\n",
    "            for r in range(rows):\n",
    "                for c in range(cols):\n",
    "                    newArray.data[r][c] = self.data[r][c] - other\n",
    "            return newArray\n",
    "        else:\n",
    "            return NotImplemented\n",
    "    #---------- Metodo para restar arrays ].\n",
    "    \n",
    "    \n",
    "    #----------[ Metodo para sumar arrays:\n",
    "    def __rsub__(self, other):\n",
    "        \"\"\" 6.3. Resta \n",
    "        Resta Arrays\n",
    "        \"\"\"        \n",
    "        return self.__sub__(other)\n",
    "    #---------- Metodo para sumar arrays ].\n",
    "    \n",
    "    \n",
    "    #----------[ Metodo para Multiplicar arrays:\n",
    "    def __mul__(self, other):\n",
    "        \"\"\" 7.1. Multiplicacion Matricial\n",
    "        Multiplica Arrays:\n",
    "        \"\"\"\n",
    "        if isinstance(other, Array):              \n",
    "            other_t = other.transpose() # Obtengo transpuestas\n",
    "            idx = 0\n",
    "            idy = 0                        \n",
    "            \n",
    "            if \"Vector\" not in str(type(other)):                   \n",
    "                newArray = Array([[sum(m*n for m,n in zip(j, i)) for j in other_t.data] for i in self.data])\n",
    "                \n",
    "                return newArray\n",
    "            else: \n",
    "                list_of_calc = [0 for x in range(self.shape[0])]  # Creo lista de long. n con Ceros          \n",
    "                \n",
    "                for x in range(self.shape[0]):   # Itero n                 \n",
    "                    # Calculo la suma de multiplicar Fila Nx por Columna My                                                               \n",
    "                    list_of_calc[idx] = (sum(i*j for i,j in zip(other_t.data[idy], self.data[idx])))\n",
    "                    idx += 1 \n",
    "                \n",
    "                return Vector(list_of_calc)\n",
    "    \n",
    "        elif isinstance(other, int):            \n",
    "            if \"Vector\" not in str(type(self)):                \n",
    "                nrow, ncol = self.shape\n",
    "                return Array([[self.data[i][j] * other for j in range(nrow)] for i in range(ncol)])\n",
    "                \n",
    "            else:\n",
    "                return NotImplemented\n",
    "        else:\n",
    "            return NotImplemented\n",
    "    #---------- Metodo para Multiplicar arrays: ].\n",
    "    \n",
    "    \n",
    "    #----------[ Metodo para sumar arrays:\n",
    "    def __rmul__(self, other):\n",
    "        \"\"\" 7.2. Multiplicacion Matricial\n",
    "        Multiplica Arrays:\n",
    "        \"\"\"\n",
    "        return self.__mul__(other)\n",
    "    #---------- Metodo para sumar arrays ].\n",
    "    \n",
    "#------------------------------------------------------------------------------------------#  \n",
    "\n",
    "    #----------[ Metodo para resolver Ly = b:\n",
    "    def forward_subs(pL, pb):\n",
    "        \"\"\" Funcion forward_subs que resuelva sistemas de ecuaciones de la forma: \n",
    "                Lx = y\n",
    "            con L triangular inferior e y cualquier Vector o Array de una columna\n",
    "        \"\"\"\n",
    "        pass # Valdiar dimensiones y que L sea Triangular Inferior\n",
    "    \n",
    "        iy = [0 for n in range(pL.shape[0])]        \n",
    "        \n",
    "        for i in range(pL.shape[0]):    \n",
    "            iy[i] = pb.data[i][0]            \n",
    "            for j in range(pL.shape[1]):                                 \n",
    "                if j < i:\n",
    "                    iy[i] -= (pL.data[i][j] * iy[j])\n",
    "            \n",
    "            iy[i] /= pL.data[i][i]\n",
    "            iy[i] = round(iy[i], 3)\n",
    "            \n",
    "        return Vector(iy)    \n",
    "    #---------- Metodo para resolver Ly = b ].\n",
    "    \n",
    "    \n",
    "    #----------[ Metodo para resolver Ux = y:\n",
    "    def backward_subs(pU, py):        \n",
    "        \"\"\" Funcion backward_subs que resuelva sistemas de ecuaciones de la forma: \n",
    "                Ux = y\n",
    "            con U triangular superior y y Vector o Array de una columna. \n",
    "        \"\"\"\n",
    "        pass # Valdiar dimensiones y que U sea Triangular Superior\n",
    "    \n",
    "        ix = [0 for n in range(pU.shape[0])]        \n",
    "        \n",
    "        for i in range(pU.shape[0], 0, -1):            \n",
    "            i -= 1\n",
    "            ix[i] = py.data[i][0]                        \n",
    "            for j in range(pU.shape[1] - 1, i -1, -1): \n",
    "                if j > i:\n",
    "                    ix[i] -= (pU.data[i][j] * ix[j])\n",
    "            \n",
    "            ix[i] /= pU.data[i][i]\n",
    "            ix[i] = round(ix[i], 3)\n",
    "            \n",
    "        return Vector(ix)    \n",
    "    #---------- Metodo para resolver Ux = y ].\n",
    "    \n",
    "    \n",
    "    #----------[ Metodo para determinar P:\n",
    "    def permutacion(self):     \n",
    "        \"\"\" A parir de una matriz A genera matriz de permutaciones \"\"\"\n",
    "        \n",
    "        nrow, ncol = self.shape\n",
    "        # crea Matriz Identidad:                                                                                                                                                                                           \n",
    "        mid = Array.eye(nrow, ncol)\n",
    "       \n",
    "        # Ordena Matriz identidad para que los valor mayores\n",
    "        # coincidan con los elemetos de la diagonal:\n",
    "        for j in range(ncol):        \n",
    "            row = max(range(j, ncol), key=lambda i: abs(self.data[i][j]))\n",
    "            if j != row:\n",
    "                mid.data[j], mid.data[row] = mid.data[row], mid.data[j]\n",
    "\n",
    "        return mid\n",
    "    #---------- Metodo para determinar P ].\n",
    "    \n",
    "    \n",
    "    #----------[ Metodo para descomponer A en LUP:\n",
    "    def lu_decomposition(self):\n",
    "        \"\"\" funcion LU que recibe un Array A y devuelva 3 arrays L, U y P tales que \n",
    "                PA = LU\n",
    "            con L trangular inferior, U triangular superior y P matriz de permutacion\n",
    "        \"\"\"\n",
    "        pass # Agregar validaciones / excepiones\n",
    "    \n",
    "        nrow, ncol = self.shape \n",
    "        \n",
    "        # Inicializo a L como una Matriz identidad: \n",
    "        ML = Array.eye(nrow, ncol)        \n",
    "        # Inicializo a U con 0's: \n",
    "        MU = Array.zeros(nrow)    \n",
    "\n",
    "        # Genero martiz de permutacion\n",
    "        MP = self.permutacion()\n",
    "        # Reordeno array de acuerdo a las permutaciones:\n",
    "        MPA = MP * self\n",
    "        \n",
    "                                                                                                                                                                                                                              \n",
    "        for j in range(nrow):\n",
    "            for i in range(j+1):            \n",
    "                vu = sum(MU.data[k][j] * ML.data[i][k] for k in range(i))\n",
    "                MU.data[i][j] = MPA.data[i][j] - vu\n",
    "\n",
    "            for i in range(j, ncol):               \n",
    "                vl = sum(MU.data[k][j] * ML.data[i][k] for k in range(j))\n",
    "                ML.data[i][j] = (MPA.data[i][j] - vl) / MU.data[j][j]\n",
    "                    \n",
    "        return (MP, ML, MU)\n",
    "    #---------- Metodo para descomponer A en LUP ].\n",
    "    \n",
    "    \n",
    "    #----------[ Metodo para resolver sistemas de ecuaciones:\n",
    "    def lu_linsolve(pA,pb):\n",
    "        \"\"\" Funcion lu_linsolve que resuelve sistemas de ecuaciones \n",
    "                Ax = y \n",
    "            con A un Array y y un Vector o Array de una columna\n",
    "        \"\"\"\n",
    "        # Descomposicion de A en P, L y U:\n",
    "        MP, ML, MU = pA.lu_decomposition()\n",
    "        # De acuerod a Ly = b -> Obtengo y:\n",
    "        sy = Array.forward_subs(ML,pb)\n",
    "        # De acuerod a Ux = y -> Obtengo x:\n",
    "        sx = Array.backward_subs(MU,sy)                      \n",
    "        \n",
    "        pA = pA * MP\n",
    "        # Retorno solución:\n",
    "        return sx\n",
    "    #---------- Metodo para resolver sistemas de ecuaciones ].\n",
    "    \n",
    "#------------------------------------------------------------------------------------------#\n",
    "\n",
    "class Vector(Array): # declara que Vector es un tipo de Array\n",
    "    \"\"\"8. Vectores - Herencia \n",
    "    \"\"\"\n",
    "    def __init__(self, list_of_numbers):\n",
    "        self.vdata = list_of_numbers\n",
    "        list_of_rows = [[x] for x in list_of_numbers]\n",
    "        return Array.__init__(self, list_of_rows)\n",
    "    \n",
    "    def __repr__(self):\n",
    "        return \"Vector(\" + str(self.vdata) + \")\"\n",
    "    \n",
    "    def __str__(self):\n",
    "        return str(self.vdata)\n",
    "    \n",
    "    def __add__(self, other):\n",
    "        new_arr = Array.__add__(self, other)\n",
    "        return Vector([x[0] for x in new_arr.data])\n",
    "    \n",
    "    def __sub__(self, other):        \n",
    "        new_arr = Array.__sub__(self, other)\n",
    "        return Vector([x[0] for x in new_arr.data])\n",
    "    \n",
    "#------------------------------------------------------------------------------------------#"
   ]
  },
  {
   "cell_type": "markdown",
   "metadata": {},
   "source": [
    "# Uso de clase Array\n",
    "### Generar array:"
   ]
  },
  {
   "cell_type": "code",
   "execution_count": 3,
   "metadata": {},
   "outputs": [
    {
     "data": {
      "text/plain": [
       "{'data': [[1, 2, 3], [4, 5, 6], [7, 8, 9]], 'shape': (3, 3)}"
      ]
     },
     "execution_count": 3,
     "metadata": {},
     "output_type": "execute_result"
    }
   ],
   "source": [
    "A = Array([[1,2,3], [4,5,6],[7,8,9]])\n",
    "A.__dict__     # el campo escondido __dict__ permite acceder a las propiedades de clase de un objeto"
   ]
  },
  {
   "cell_type": "code",
   "execution_count": 4,
   "metadata": {},
   "outputs": [
    {
     "data": {
      "text/plain": [
       "([[1, 2, 3], [4, 5, 6], [7, 8, 9]], (3, 3))"
      ]
     },
     "execution_count": 4,
     "metadata": {},
     "output_type": "execute_result"
    }
   ],
   "source": [
    "A.data, A.shape"
   ]
  },
  {
   "cell_type": "markdown",
   "metadata": {},
   "source": [
    "### Visualizar datos:"
   ]
  },
  {
   "cell_type": "code",
   "execution_count": 5,
   "metadata": {},
   "outputs": [
    {
     "name": "stdout",
     "output_type": "stream",
     "text": [
      "[[ 1  2  3]\n",
      " [ 4  5  6]\n",
      " [ 7  8  9]]\n"
     ]
    }
   ],
   "source": [
    "print(A)  # Muestro el contenido de A utilizando la función print"
   ]
  },
  {
   "cell_type": "code",
   "execution_count": 6,
   "metadata": {},
   "outputs": [
    {
     "data": {
      "text/plain": [
       "array([[ 1,  2,  3],\n",
       "       [ 4,  5,  6],\n",
       "       [ 7,  8,  9]])"
      ]
     },
     "execution_count": 6,
     "metadata": {},
     "output_type": "execute_result"
    }
   ],
   "source": [
    "A        # Muestro el contenido de A sin utilizar la función print"
   ]
  },
  {
   "cell_type": "markdown",
   "metadata": {},
   "source": [
    "### Accediendo a una posición:"
   ]
  },
  {
   "cell_type": "code",
   "execution_count": 7,
   "metadata": {},
   "outputs": [
    {
     "data": {
      "text/plain": [
       "[4, 5, 6]"
      ]
     },
     "execution_count": 7,
     "metadata": {},
     "output_type": "execute_result"
    }
   ],
   "source": [
    "A[1,:]       # Accedo al valor de una posición"
   ]
  },
  {
   "cell_type": "code",
   "execution_count": 8,
   "metadata": {},
   "outputs": [
    {
     "name": "stdout",
     "output_type": "stream",
     "text": [
      "Item modificado.\n"
     ]
    },
    {
     "data": {
      "text/plain": [
       "array([[ 1, -3,  3],\n",
       "       [ 4,  5,  6],\n",
       "       [ 7,  8,  9]])"
      ]
     },
     "execution_count": 8,
     "metadata": {},
     "output_type": "execute_result"
    }
   ],
   "source": [
    "A[0,1] = -3  # Modifico el valor de una posición\n",
    "A"
   ]
  },
  {
   "cell_type": "markdown",
   "metadata": {},
   "source": [
    "### Zeros"
   ]
  },
  {
   "cell_type": "code",
   "execution_count": 9,
   "metadata": {},
   "outputs": [
    {
     "data": {
      "text/plain": [
       "array([[ 0,  0,  0],\n",
       "       [ 0,  0,  0],\n",
       "       [ 0,  0,  0]])"
      ]
     },
     "execution_count": 9,
     "metadata": {},
     "output_type": "execute_result"
    }
   ],
   "source": [
    "Z = Array.zeros((3,3))   # Genero matriz de m x n de Ceros\n",
    "Z"
   ]
  },
  {
   "cell_type": "markdown",
   "metadata": {},
   "source": [
    "### Matriz Identidad"
   ]
  },
  {
   "cell_type": "code",
   "execution_count": 10,
   "metadata": {},
   "outputs": [
    {
     "data": {
      "text/plain": [
       "array([[ 1,  0,  0],\n",
       "       [ 0,  1,  0],\n",
       "       [ 0,  0,  1]])"
      ]
     },
     "execution_count": 10,
     "metadata": {},
     "output_type": "execute_result"
    }
   ],
   "source": [
    "E = Array.eye(3,3)     # Genero matriz de m x n con 1s en la diagonal\n",
    "E"
   ]
  },
  {
   "cell_type": "markdown",
   "metadata": {},
   "source": [
    "### Transpuesta"
   ]
  },
  {
   "cell_type": "code",
   "execution_count": 11,
   "metadata": {},
   "outputs": [
    {
     "name": "stdout",
     "output_type": "stream",
     "text": [
      "A:\n",
      "[[ 1 -3  3]\n",
      " [ 4  5  6]\n",
      " [ 7  8  9]]\n",
      "Transpuesta de A:\n",
      "[[ 1  4  7]\n",
      " [-3  5  8]\n",
      " [ 3  6  9]]\n"
     ]
    }
   ],
   "source": [
    "T = A.transpose()      # Obtengo la transpuesta de A\n",
    "T\n",
    "print(\"A:\")\n",
    "print(A)\n",
    "print(\"Transpuesta de A:\")\n",
    "print(T)"
   ]
  },
  {
   "cell_type": "markdown",
   "metadata": {},
   "source": [
    "# Operaciones entre Arrays\n",
    "### Suma de Matrices"
   ]
  },
  {
   "cell_type": "code",
   "execution_count": 12,
   "metadata": {},
   "outputs": [
    {
     "data": {
      "text/plain": [
       "array([[ 2,  1, 10],\n",
       "       [ 1, 10, 14],\n",
       "       [10, 14, 18]])"
      ]
     },
     "execution_count": 12,
     "metadata": {},
     "output_type": "execute_result"
    }
   ],
   "source": [
    "S1 = A + T          # Sumo Matrices\n",
    "S1"
   ]
  },
  {
   "cell_type": "markdown",
   "metadata": {},
   "source": [
    "### Suma de Matriz + Escalar"
   ]
  },
  {
   "cell_type": "code",
   "execution_count": 13,
   "metadata": {},
   "outputs": [
    {
     "data": {
      "text/plain": [
       "array([[11,  7, 13],\n",
       "       [14, 15, 16],\n",
       "       [17, 18, 19]])"
      ]
     },
     "execution_count": 13,
     "metadata": {},
     "output_type": "execute_result"
    }
   ],
   "source": [
    "S2 = A + 10        # Sumo Matriz + Escalar\n",
    "S2"
   ]
  },
  {
   "cell_type": "markdown",
   "metadata": {},
   "source": [
    "### Multiplicación de matrices"
   ]
  },
  {
   "cell_type": "code",
   "execution_count": 14,
   "metadata": {},
   "outputs": [
    {
     "data": {
      "text/plain": [
       "array([[ 19,   7,  10],\n",
       "       [  7,  77, 122],\n",
       "       [ 10, 122, 194]])"
      ]
     },
     "execution_count": 14,
     "metadata": {},
     "output_type": "execute_result"
    }
   ],
   "source": [
    "M1 = A * T             # Multiplico Matrices\n",
    "M1"
   ]
  },
  {
   "cell_type": "markdown",
   "metadata": {},
   "source": [
    "### Multiplicación de Matriz x Escalar"
   ]
  },
  {
   "cell_type": "code",
   "execution_count": 15,
   "metadata": {},
   "outputs": [
    {
     "data": {
      "text/plain": [
       "array([[  5, -15,  15],\n",
       "       [ 20,  25,  30],\n",
       "       [ 35,  40,  45]])"
      ]
     },
     "execution_count": 15,
     "metadata": {},
     "output_type": "execute_result"
    }
   ],
   "source": [
    "M2 = A * 5            # Multiplico Matriz por un Escalar\n",
    "M2"
   ]
  },
  {
   "cell_type": "markdown",
   "metadata": {
    "collapsed": true
   },
   "source": [
    "# Vectores"
   ]
  },
  {
   "cell_type": "code",
   "execution_count": 16,
   "metadata": {},
   "outputs": [
    {
     "data": {
      "text/plain": [
       "{'data': [[1], [2], [3]], 'shape': (3, 1), 'vdata': [1, 2, 3]}"
      ]
     },
     "execution_count": 16,
     "metadata": {},
     "output_type": "execute_result"
    }
   ],
   "source": [
    "Vector([1,2,3]).__dict__"
   ]
  },
  {
   "cell_type": "code",
   "execution_count": 17,
   "metadata": {},
   "outputs": [
    {
     "data": {
      "text/plain": [
       "Vector([1, 2, 3])"
      ]
     },
     "execution_count": 17,
     "metadata": {},
     "output_type": "execute_result"
    }
   ],
   "source": [
    "vec = Vector([1,2,3])\n",
    "vec"
   ]
  },
  {
   "cell_type": "markdown",
   "metadata": {},
   "source": [
    "### Suma de Vectores"
   ]
  },
  {
   "cell_type": "code",
   "execution_count": 18,
   "metadata": {},
   "outputs": [
    {
     "data": {
      "text/plain": [
       "Vector([6, 0, 3])"
      ]
     },
     "execution_count": 18,
     "metadata": {},
     "output_type": "execute_result"
    }
   ],
   "source": [
    "Vector([1,2,3]) + Vector([5,-2,0])"
   ]
  },
  {
   "cell_type": "markdown",
   "metadata": {},
   "source": [
    "### Suma de Vector + Escalar"
   ]
  },
  {
   "cell_type": "code",
   "execution_count": 19,
   "metadata": {},
   "outputs": [
    {
     "data": {
      "text/plain": [
       "Vector([6, 7, 8])"
      ]
     },
     "execution_count": 19,
     "metadata": {},
     "output_type": "execute_result"
    }
   ],
   "source": [
    "(vec + 10) - 5"
   ]
  },
  {
   "cell_type": "markdown",
   "metadata": {},
   "source": [
    "# Matriz & Vector"
   ]
  },
  {
   "cell_type": "code",
   "execution_count": 20,
   "metadata": {},
   "outputs": [
    {
     "data": {
      "text/plain": [
       "Vector([4, 32, 50])"
      ]
     },
     "execution_count": 20,
     "metadata": {},
     "output_type": "execute_result"
    }
   ],
   "source": [
    "MV = A * vec\n",
    "MV"
   ]
  },
  {
   "cell_type": "markdown",
   "metadata": {},
   "source": [
    "# Resolviendo sistemas de ecuaciones"
   ]
  },
  {
   "cell_type": "code",
   "execution_count": 21,
   "metadata": {
    "collapsed": true,
    "scrolled": false
   },
   "outputs": [],
   "source": [
    "L = Array([[1,0,0,0], [2,1,0,0],[-1.5,0.625,1,0],[-1,1.75,6.6667,1]])\n",
    "b = Vector([4,-8,-4,-1])\n",
    "U = Array([[2,3,2,4],[0,4,-8,-8],[0,0,3,9],[0,0,0,-49]])"
   ]
  },
  {
   "cell_type": "markdown",
   "metadata": {},
   "source": [
    "### Forward Subs: Ly = b"
   ]
  },
  {
   "cell_type": "code",
   "execution_count": 22,
   "metadata": {},
   "outputs": [
    {
     "data": {
      "text/plain": [
       "Vector([4.0, -16.0, 12.0, -49.0])"
      ]
     },
     "execution_count": 22,
     "metadata": {},
     "output_type": "execute_result"
    }
   ],
   "source": [
    "y = Array.forward_subs(L,b)\n",
    "y"
   ]
  },
  {
   "cell_type": "markdown",
   "metadata": {},
   "source": [
    "### Backward Subs: Ux = y"
   ]
  },
  {
   "cell_type": "code",
   "execution_count": 23,
   "metadata": {},
   "outputs": [
    {
     "data": {
      "text/plain": [
       "Vector([-1.0, 0.0, 1.0, 1.0])"
      ]
     },
     "execution_count": 23,
     "metadata": {},
     "output_type": "execute_result"
    }
   ],
   "source": [
    "x = Array.backward_subs(U,y)\n",
    "x"
   ]
  },
  {
   "cell_type": "markdown",
   "metadata": {},
   "source": [
    "### Descomposición LU"
   ]
  },
  {
   "cell_type": "code",
   "execution_count": 37,
   "metadata": {},
   "outputs": [
    {
     "name": "stdout",
     "output_type": "stream",
     "text": [
      "A1: \n",
      "[[ 4 10 -4  0]\n",
      " [-2  4  4 -7]\n",
      " [-3 -2 -5 -2]\n",
      " [ 2  3  2  4]]\n",
      "\n",
      "b1: \n",
      "[-8, -1, -4, 4]\n"
     ]
    }
   ],
   "source": [
    "A1 = Array([[4,10,-4,0],[-2,4,4,-7],[-3,-2,-5,-2],[2,3,2,4]])\n",
    "b1 = Vector([-8,-1,-4,4])\n",
    "print(\"A1: \")\n",
    "print(A1)\n",
    "print(\"\\nb1: \")\n",
    "print(b1)"
   ]
  },
  {
   "cell_type": "markdown",
   "metadata": {},
   "source": [
    "### Dada una array A genero 3 arrays L, U y P tales que  PA = LU"
   ]
  },
  {
   "cell_type": "code",
   "execution_count": 38,
   "metadata": {},
   "outputs": [
    {
     "name": "stdout",
     "output_type": "stream",
     "text": [
      "P: \n",
      "[[ 1  0  0  0]\n",
      " [ 0  1  0  0]\n",
      " [ 0  0  1  0]\n",
      " [ 0  0  0  1]]\n",
      "\n",
      "L: \n",
      "[[  1.0     0     0     0]\n",
      " [ -0.5   1.0     0     0]\n",
      " [-0.75 0.6111111111111112   1.0     0]\n",
      " [  0.5 -0.2222222222222222 -0.48192771084337355   1.0]]\n",
      "\n",
      "U: \n",
      "[[                 4                 10                 -4                  0]\n",
      " [                 0                9.0                2.0               -7.0]\n",
      " [                 0                  0 -9.222222222222221 2.2777777777777786]\n",
      " [                 0                  0                  0 3.5421686746987957]]\n"
     ]
    }
   ],
   "source": [
    "P1, L1, U1 = A1.lu_decomposition()\n",
    "print(\"P: \" )\n",
    "print(P1)\n",
    "print(\"\\nL: \")\n",
    "print(L1)\n",
    "print(\"\\nU: \")\n",
    "print(U1)"
   ]
  },
  {
   "cell_type": "markdown",
   "metadata": {},
   "source": [
    "# Resuelve sistema Ax = b"
   ]
  },
  {
   "cell_type": "code",
   "execution_count": 39,
   "metadata": {},
   "outputs": [
    {
     "data": {
      "text/plain": [
       "Vector([-1.0, 0.0, 1.0, 1.0])"
      ]
     },
     "execution_count": 39,
     "metadata": {},
     "output_type": "execute_result"
    }
   ],
   "source": [
    "solucion = Array.lu_linsolve(A1,b1)\n",
    "solucion"
   ]
  },
  {
   "cell_type": "code",
   "execution_count": null,
   "metadata": {
    "collapsed": true
   },
   "outputs": [],
   "source": []
  }
 ],
 "metadata": {
  "kernelspec": {
   "display_name": "Python 3",
   "language": "python",
   "name": "python3"
  },
  "language_info": {
   "codemirror_mode": {
    "name": "ipython",
    "version": 3
   },
   "file_extension": ".py",
   "mimetype": "text/x-python",
   "name": "python",
   "nbconvert_exporter": "python",
   "pygments_lexer": "ipython3",
   "version": "3.6.1"
  }
 },
 "nbformat": 4,
 "nbformat_minor": 2
}
