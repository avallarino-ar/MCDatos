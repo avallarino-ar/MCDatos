{
 "cells": [
  {
   "cell_type": "markdown",
   "metadata": {},
   "source": [
    "# Creando una sistema de Algebra Lineal\n",
    "### Ariel Vallarino"
   ]
  },
  {
   "cell_type": "markdown",
   "metadata": {},
   "source": [
    "### Creo clase con métodos para realizar operaciones de álgebra lineal con vectores y matrices"
   ]
  },
  {
   "cell_type": "code",
   "execution_count": 1,
   "metadata": {
    "collapsed": true
   },
   "outputs": [],
   "source": [
    "import copy as cp\n",
    "\n",
    "class Array:    \n",
    "    #----------[ Metodo constructor y validador:\n",
    "    def __init__(self, list_of_rows): \n",
    "        \"\"\" Metodo Constructor y Validador\n",
    "        2. Un validador\n",
    "        \n",
    "        Parámetros:\n",
    "        .- list_of_rows: lista de arrays que asigna al atributo DATA \n",
    "        y ademas en SHAPE define la dimensión del mismo.\n",
    "        \n",
    "        Ejemplo: \n",
    "            A = Array([[1,2,3],[4,5,6],[7,8,9]])\n",
    "        \"\"\"\n",
    "        # obtener dimensiones\n",
    "        self.data = list_of_rows\n",
    "        nrow = len(list_of_rows)\n",
    "        \n",
    "        #  ___caso vector: redimensionar correctamente\n",
    "        if not isinstance(list_of_rows[0], list):\n",
    "            nrow = 1\n",
    "            self.data = [[x] for x in list_of_rows]\n",
    "        \n",
    "        # ahora las columnas deben estar bien aunque sea un vector\n",
    "        ncol = len(self.data[0])\n",
    "        self.shape = (nrow, ncol)\n",
    "        \n",
    "        # validar tamano correcto de filas\n",
    "        if any([len(r) != ncol for r in self.data]):\n",
    "            raise Exception(\"Las filas deben ser del mismo tamano\")\n",
    "    #---------- Metodo constructor y validador ].\n",
    "    \n",
    "    \n",
    "    #----------[ Metodo para imprimir sin función Print:\n",
    "    def __repr__(self):\n",
    "        \"\"\" 1. Un metodo para imprimir mejor...\n",
    "        Metodo para imprimir un Array sin utilizar print\n",
    "        \"\"\"\n",
    "        nrow, ncol = self.shape\n",
    "        data_out  = \"array([\"\n",
    "        data_line = \"[\"\n",
    "          \n",
    "        # Obtengo Max. longitud de los valores para generar empacio entre las columnas:\n",
    "        espacio = max(max([[len(str(self.data[i][j])) for i in range(nrow)] for j in range(ncol)]))                                         \n",
    "        \n",
    "        for i in range(nrow):\n",
    "            data_line  = \"[\" + str(\", \".join(map(lambda i: ('{:.0f}'.format(i)).rjust(espacio), self.data[i]))) + \"]\"\n",
    "            if i < (nrow - 1):\n",
    "                data_out += data_line + \",\\n       \"\n",
    "            else: \n",
    "                data_out += data_line + \"])\"\n",
    "                                \n",
    "        return (data_out)\n",
    "    #---------- Metodo para imprimir sin función Print ].\n",
    " \n",
    "\n",
    "    #----------[ Metodo para imprimir con función Print: \n",
    "    def __str__(self):\n",
    "        \"\"\" 1. Un metodo para imprimir mejor...\n",
    "        Metodo para imprimir un Array utilizando print\n",
    "        \n",
    "        \"\"\"      \n",
    "        nrow, ncol = self.shape\n",
    "        data_out  = \"[\"\n",
    "        data_line = \"[\"\n",
    "        \n",
    "        espacio = max(max([[len(str(self.data[i][j])) for i in range(nrow)] for j in range(ncol)]))                                  \n",
    "        \n",
    "        for i in range(nrow):\n",
    "            data_line  = \"[\" + str(\" \".join(map(lambda i: ('{:.0f}'.format(i)).rjust(espacio), self.data[i]))) + \"]\"\n",
    "           \n",
    "            if i < (nrow - 1):\n",
    "                data_out += data_line + \"\\n \"\n",
    "            else: \n",
    "                data_out += data_line + \"]\"\n",
    "                                \n",
    "        return (data_out)\n",
    "    #---------- Metodo para imprimir con función Print ].\n",
    "    \n",
    "    \n",
    "    #----------[ Metodo para obtener un item: \n",
    "    def __getitem__(self, idx):\n",
    "        \"\"\" 3.1. Indexing and Item assignment\n",
    "        Retorna un item \"\"\"    \n",
    "        nrow, ncol = self.shape\n",
    "        if idx[0] <= nrow | idx[1] <= ncol:\n",
    "            return self.data[idx[0]][idx[1]]\n",
    "        else:\n",
    "            raise Exception(\"La dimensión no corresponde con la del Array!\")\n",
    "    #---------- Metodo para obtener un item ].\n",
    "    \n",
    "    \n",
    "    #----------[ Metodo para modificar un item:\n",
    "    def __setitem__(self, idx, new_value):\n",
    "        \"\"\" 3.2. Indexing and Item assignment\n",
    "        Modifica el valor de un item particular \"\"\"               \n",
    "        nrow, ncol = self.shape\n",
    "        if idx[0] <= nrow | idx[1] <= ncol:\n",
    "            self.data[idx[0]][idx[1]] = new_value            \n",
    "            print(\"Item modificado.\")\n",
    "            \n",
    "        else:\n",
    "            raise Exception(\"La dimensión no corresponde con la del Array!\")\n",
    "    \n",
    "    #---------- Metodo para modificar un item ].\n",
    "    \n",
    "    \n",
    "    #----------[ Función para crear Matriz de Ceros:\n",
    "    def zeros(shape): \n",
    "        \"\"\" 4.1. Iniciar una matriz en Ceros\n",
    "        Genera un Array de Ceros de la dimensión indicada\n",
    "        \n",
    "        Parametros\n",
    "        ----------\n",
    "        shape: (n,m) -> n filas x m columnas\n",
    "        \"\"\"        \n",
    "        if isinstance(shape, tuple):\n",
    "            nrow, ncol = shape\n",
    "        elif isinstance(shape, int):\n",
    "            nrow = ncol = shape        \n",
    "        else:\n",
    "            raise Exception(\"Parámetro no definido.\")\n",
    "        \n",
    "        newArray = Array([[0 for i in range(ncol)] for j in range(nrow)])      \n",
    "        return newArray\n",
    "    #---------- Función para crear Matriz de Ceros ]. \n",
    "    \n",
    "\n",
    "    #----------[ Función para crear Matriz Identidad:\n",
    "    def eye(n,m=0,k=0):\n",
    "        \"\"\" 4.2. Iniciar una matriz con Unos en la diagonal\n",
    "        \n",
    "        Parametros\n",
    "        ----------\n",
    "        n: Número de filas\n",
    "        m: Número de columnas (opcional)\n",
    "           Por defecto m = n\n",
    "        k: Desplaza la diagonal (opcional)\n",
    "           k = 0: Daigonal principal (valor por defect)\n",
    "           k > 0: Diagonal superior\n",
    "           k < 0: Diagonal inferior\n",
    "        \"\"\"\n",
    "        if m == 0: m = idxy = n\n",
    "        elif n > m: idxy = n\n",
    "        else: idxy = m\n",
    "            \n",
    "        idx = 0\n",
    "        idy = 0\n",
    "            \n",
    "        if k == 0: \n",
    "            newArray = Array([[0 if i is not j else 1 for i in range(n)] for j in range(m)])      \n",
    "        else:\n",
    "            newArray = Array.zeros((n,m))            \n",
    "            for i in range(idxy):\n",
    "                idx = idy = i            \n",
    "                if k > 0:\n",
    "                    idy += k \n",
    "                    if (idx < n) & (idy < m):\n",
    "                        # Asigno 1 a la diagonal\n",
    "                        newArray.data[idx][idy] = 1.0  \n",
    "                else:                        \n",
    "                    idx += abs(k)                     \n",
    "                    if (idx < n) & (idy < m) & (idx >= 0):\n",
    "                        # Asigno 1 a la diagonal\n",
    "                        newArray.data[idx][idy] = 1.0  \n",
    "                \n",
    "        return newArray\n",
    "    #---------- Función para crear Matriz Identidad ].\n",
    "    \n",
    "    \n",
    "    #----------[ Metodo para generar la matriz transpuesta:\n",
    "    def transpose(self):\n",
    "        \"\"\" 5. Transposicion\n",
    "        Calcula la Transpuesta de una matriz\n",
    "        \"\"\"\n",
    "        nrow, ncol = self.shape\n",
    "        return Array([[self.data[j][i] for j in range(nrow)] for i in range(ncol)])\n",
    "    #---------- Metodo para generar la matriz transpuesta ].\n",
    "    \n",
    "    \n",
    "    #----------[ Metodo para sumar arrays:\n",
    "    def __add__(self, other):\n",
    "        \"\"\" 6.1. Suma\n",
    "        Suma Arrays\n",
    "        \"\"\"\n",
    "        if isinstance(other, Array):\n",
    "            if self.shape != other.shape:\n",
    "                raise Exception(\"Las dimensiones son distintas!\")\n",
    "            rows, cols = self.shape\n",
    "            newArray = Array([[0. for c in range(cols)] for r in range(rows)])\n",
    "            for r in range(rows):\n",
    "                for c in range(cols):\n",
    "                    newArray.data[r][c] = self.data[r][c] + other.data[r][c]\n",
    "            return newArray\n",
    "        elif isinstance(2, (int, float, complex)): # en caso de que el lado derecho sea solo un numero\n",
    "            rows, cols = self.shape\n",
    "            newArray = Array([[0. for c in range(cols)] for r in range(rows)])\n",
    "            for r in range(rows):\n",
    "                for c in range(cols):\n",
    "                    newArray.data[r][c] = self.data[r][c] + other\n",
    "            return newArray\n",
    "        else:\n",
    "            return NotImplemented # es un tipo de error particular usado en estos metodos\n",
    "    #---------- Metodo para sumar arrays ].\n",
    "\n",
    "\n",
    "    #----------[ Metodo para sumar arrays:\n",
    "    def __radd__(self, other):\n",
    "        \"\"\" 6.2. Suma\n",
    "        Suma Arrays\n",
    "        \"\"\"\n",
    "        return self.__add__(other)\n",
    "    #---------- Metodo para sumar arrays ].\n",
    "    \n",
    "    \n",
    "    #----------[ Metodo para restar arrays:\n",
    "    def __sub__(self, other):\n",
    "        \"\"\"  6.3. Resta \n",
    "        Resta Arrays\n",
    "        \"\"\"         \n",
    "        if isinstance(other, Array):\n",
    "            if self.shape != other.shape:\n",
    "                raise Exception(\"Las dimensiones son distintas!\")\n",
    "            rows, cols = self.shape\n",
    "            newArray = Array([[0. for c in range(cols)] for r in range(rows)])\n",
    "            for r in range(rows):\n",
    "                for c in range(cols):\n",
    "                    newArray.data[r][c] = self.data[r][c] - other.data[r][c]\n",
    "            return newArray\n",
    "        elif isinstance(2, (int, float, complex)): # en caso de que el lado derecho sea solo un numero\n",
    "            rows, cols = self.shape\n",
    "            newArray = Array([[0. for c in range(cols)] for r in range(rows)])\n",
    "            for r in range(rows):\n",
    "                for c in range(cols):\n",
    "                    newArray.data[r][c] = self.data[r][c] - other\n",
    "            return newArray\n",
    "        else:\n",
    "            return NotImplemented\n",
    "    #---------- Metodo para restar arrays ].\n",
    "    \n",
    "    \n",
    "    #----------[ Metodo para sumar arrays:\n",
    "    def __rsub__(self, other):\n",
    "        \"\"\" 6.3. Resta \n",
    "        Resta Arrays\n",
    "        \"\"\"        \n",
    "        return self.__sub__(other)\n",
    "    #---------- Metodo para sumar arrays ].\n",
    "    \n",
    "    \n",
    "    \n",
    "    #----------[ Metodo para Multiplicar arrays:\n",
    "    def __mul__(self, other):\n",
    "        \"\"\" 7. Multiplicacion Matricial\n",
    "        Multiplica Arrays:\n",
    "        \"\"\"\n",
    "        if isinstance(other, Array):\n",
    "            other_t = other.transpose() # Obtengo transpuestas\n",
    "            idx = 0\n",
    "            idy = 0                        \n",
    "            \n",
    "            list_of_rows = []\n",
    "            list_of_calc = [0 for x in range(self.shape[0])]  # Creo lista de long. n con Ceros\n",
    "                        \n",
    "            for x in range(self.shape[0] * other.shape[1]): # Itero n x m                \n",
    "                # Calculo la suma de multiplicar Fila Nx por Columna My               \n",
    "                list_of_calc[idx] = (sum(i*j for i,j in zip(other_t.data[idy], self.data[idx])))\n",
    "\n",
    "                if idx == (self.shape[0] - 1):\n",
    "                    idx = 0\n",
    "                    idy += 1\n",
    "                    list_of_rows.append(cp.copy(list_of_calc)) \n",
    "                else: \n",
    "                    idx += 1 \n",
    "            \n",
    "            if \"Vector\" not in str(type(other)):\n",
    "                return Array(list_of_rows)\n",
    "            else: \n",
    "                return Vector(list_of_calc)\n",
    "    \n",
    "        elif isinstance(other, int):            \n",
    "            if \"Vector\" not in str(type(self)):                \n",
    "                nrow, ncol = self.shape\n",
    "                return Array([[self.data[i][j] * other for j in range(nrow)] for i in range(ncol)])\n",
    "                \n",
    "            else:\n",
    "                return NotImplemented\n",
    "        else:\n",
    "            return NotImplemented\n",
    "    #---------- Metodo para Multiplicar arrays: ].\n",
    "    \n",
    "    \n",
    "    #----------[ Metodo para sumar arrays:\n",
    "    def __rmul__(self, other):\n",
    "        \"\"\" 7. Multiplicacion Matricial\n",
    "        Multiplica Arrays:\n",
    "        \"\"\"\n",
    "        return self.__mul__(other)\n",
    "    #---------- Metodo para sumar arrays ].\n",
    "    \n",
    "#-------------------------------------------------------------------------------------------------------------#\n",
    "class Vector(Array): # declara que Vector es un tipo de Array\n",
    "    def __init__(self, list_of_numbers):\n",
    "        self.vdata = list_of_numbers\n",
    "        list_of_rows = [[x] for x in list_of_numbers]\n",
    "        return Array.__init__(self, list_of_rows)\n",
    "    \n",
    "    def __repr__(self):\n",
    "        return \"Vector(\" + str(self.vdata) + \")\"\n",
    "    \n",
    "    def __str__(self):\n",
    "        return str(self.vdata)\n",
    "    \n",
    "    def __add__(self, other):\n",
    "        new_arr = Array.__add__(self, other)\n",
    "        return Vector([x[0] for x in new_arr.data])\n",
    "    \n",
    "    def __sub__(self, other):        \n",
    "        new_arr = Array.__sub__(self, other)\n",
    "        return Vector([x[0] for x in new_arr.data])\n",
    "#-------------------------------------------------------------------------------------------------------------#    "
   ]
  },
  {
   "cell_type": "markdown",
   "metadata": {},
   "source": [
    "# Uso de clase Array\n",
    "### Generar array:"
   ]
  },
  {
   "cell_type": "code",
   "execution_count": 2,
   "metadata": {},
   "outputs": [
    {
     "data": {
      "text/plain": [
       "{'data': [[1, 2, 3], [4, 5, 6], [7, 8, 9]], 'shape': (3, 3)}"
      ]
     },
     "execution_count": 2,
     "metadata": {},
     "output_type": "execute_result"
    }
   ],
   "source": [
    "A = Array([[1,2,3], [4,5,6],[7,8,9]])\n",
    "A.__dict__     # el campo escondido __dict__ permite acceder a las propiedades de clase de un objeto"
   ]
  },
  {
   "cell_type": "code",
   "execution_count": 3,
   "metadata": {},
   "outputs": [
    {
     "data": {
      "text/plain": [
       "([[1, 2, 3], [4, 5, 6], [7, 8, 9]], (3, 3))"
      ]
     },
     "execution_count": 3,
     "metadata": {},
     "output_type": "execute_result"
    }
   ],
   "source": [
    "A.data, A.shape"
   ]
  },
  {
   "cell_type": "markdown",
   "metadata": {},
   "source": [
    "### Visualizar datos:"
   ]
  },
  {
   "cell_type": "code",
   "execution_count": 4,
   "metadata": {},
   "outputs": [
    {
     "name": "stdout",
     "output_type": "stream",
     "text": [
      "[[1 2 3]\n",
      " [4 5 6]\n",
      " [7 8 9]]\n"
     ]
    }
   ],
   "source": [
    "print(A)  # Muestro el contenido de A utilizando la función print"
   ]
  },
  {
   "cell_type": "code",
   "execution_count": 5,
   "metadata": {},
   "outputs": [
    {
     "data": {
      "text/plain": [
       "array([[1, 2, 3],\n",
       "       [4, 5, 6],\n",
       "       [7, 8, 9]])"
      ]
     },
     "execution_count": 5,
     "metadata": {},
     "output_type": "execute_result"
    }
   ],
   "source": [
    "A        # Muestro el contenido de A sin utilizar la función print"
   ]
  },
  {
   "cell_type": "markdown",
   "metadata": {},
   "source": [
    "### Accediendo a una posición:"
   ]
  },
  {
   "cell_type": "code",
   "execution_count": 6,
   "metadata": {},
   "outputs": [
    {
     "data": {
      "text/plain": [
       "5"
      ]
     },
     "execution_count": 6,
     "metadata": {},
     "output_type": "execute_result"
    }
   ],
   "source": [
    "A[1,1]       # Accedo al valor de una posición"
   ]
  },
  {
   "cell_type": "code",
   "execution_count": 7,
   "metadata": {},
   "outputs": [
    {
     "name": "stdout",
     "output_type": "stream",
     "text": [
      "Item modificado.\n"
     ]
    },
    {
     "data": {
      "text/plain": [
       "array([[-3,  2,  3],\n",
       "       [ 4,  5,  6],\n",
       "       [ 7,  8,  9]])"
      ]
     },
     "execution_count": 7,
     "metadata": {},
     "output_type": "execute_result"
    }
   ],
   "source": [
    "A[0,0] = -3  # Modifico el valor de una posición\n",
    "A"
   ]
  },
  {
   "cell_type": "markdown",
   "metadata": {},
   "source": [
    "### Zeros"
   ]
  },
  {
   "cell_type": "code",
   "execution_count": 8,
   "metadata": {},
   "outputs": [
    {
     "data": {
      "text/plain": [
       "array([[0, 0, 0],\n",
       "       [0, 0, 0],\n",
       "       [0, 0, 0]])"
      ]
     },
     "execution_count": 8,
     "metadata": {},
     "output_type": "execute_result"
    }
   ],
   "source": [
    "Z = Array.zeros((3,3))   # Genero matriz de m x n de Ceros\n",
    "Z"
   ]
  },
  {
   "cell_type": "markdown",
   "metadata": {},
   "source": [
    "### Matriz Identidad"
   ]
  },
  {
   "cell_type": "code",
   "execution_count": 9,
   "metadata": {},
   "outputs": [
    {
     "data": {
      "text/plain": [
       "array([[1, 0, 0],\n",
       "       [0, 1, 0],\n",
       "       [0, 0, 1]])"
      ]
     },
     "execution_count": 9,
     "metadata": {},
     "output_type": "execute_result"
    }
   ],
   "source": [
    "E = Array.eye(3,3)     # Genero matriz de m x n con 1s en la diagonal\n",
    "E"
   ]
  },
  {
   "cell_type": "markdown",
   "metadata": {},
   "source": [
    "### Transpuesta"
   ]
  },
  {
   "cell_type": "code",
   "execution_count": 10,
   "metadata": {},
   "outputs": [
    {
     "data": {
      "text/plain": [
       "array([[-3,  4,  7],\n",
       "       [ 2,  5,  8],\n",
       "       [ 3,  6,  9]])"
      ]
     },
     "execution_count": 10,
     "metadata": {},
     "output_type": "execute_result"
    }
   ],
   "source": [
    "T = A.transpose()      # Obtengo la transpuesta de A\n",
    "T"
   ]
  },
  {
   "cell_type": "markdown",
   "metadata": {},
   "source": [
    "# Operaciones entre Arrays\n",
    "### Suma de Matrices"
   ]
  },
  {
   "cell_type": "code",
   "execution_count": 11,
   "metadata": {},
   "outputs": [
    {
     "data": {
      "text/plain": [
       "array([[-6,  6, 10],\n",
       "       [ 6, 10, 14],\n",
       "       [10, 14, 18]])"
      ]
     },
     "execution_count": 11,
     "metadata": {},
     "output_type": "execute_result"
    }
   ],
   "source": [
    "S1 = A + T          # Sumo Matrices\n",
    "S1"
   ]
  },
  {
   "cell_type": "markdown",
   "metadata": {},
   "source": [
    "### Suma de Matriz + Escalar"
   ]
  },
  {
   "cell_type": "code",
   "execution_count": 12,
   "metadata": {},
   "outputs": [
    {
     "data": {
      "text/plain": [
       "array([[ 7, 12, 13],\n",
       "       [14, 15, 16],\n",
       "       [17, 18, 19]])"
      ]
     },
     "execution_count": 12,
     "metadata": {},
     "output_type": "execute_result"
    }
   ],
   "source": [
    "S2 = A + 10        # Sumo Matriz + Escalar\n",
    "S2"
   ]
  },
  {
   "cell_type": "markdown",
   "metadata": {},
   "source": [
    "### Multiplicación de matrices"
   ]
  },
  {
   "cell_type": "code",
   "execution_count": 13,
   "metadata": {},
   "outputs": [
    {
     "data": {
      "text/plain": [
       "array([[ 22,  16,  22],\n",
       "       [ 16,  77, 122],\n",
       "       [ 22, 122, 194]])"
      ]
     },
     "execution_count": 13,
     "metadata": {},
     "output_type": "execute_result"
    }
   ],
   "source": [
    "M1 = A * T             # Multiplico Matrices\n",
    "M1"
   ]
  },
  {
   "cell_type": "markdown",
   "metadata": {},
   "source": [
    "### Multiplicación de Matriz x Escalar"
   ]
  },
  {
   "cell_type": "code",
   "execution_count": 14,
   "metadata": {},
   "outputs": [
    {
     "data": {
      "text/plain": [
       "array([[-15,  10,  15],\n",
       "       [ 20,  25,  30],\n",
       "       [ 35,  40,  45]])"
      ]
     },
     "execution_count": 14,
     "metadata": {},
     "output_type": "execute_result"
    }
   ],
   "source": [
    "M2 = A * 5            # Multiplico Matriz por un Escalar\n",
    "M2"
   ]
  },
  {
   "cell_type": "markdown",
   "metadata": {
    "collapsed": true
   },
   "source": [
    "# Vectores"
   ]
  },
  {
   "cell_type": "code",
   "execution_count": 15,
   "metadata": {},
   "outputs": [
    {
     "data": {
      "text/plain": [
       "{'data': [[1], [2], [3]], 'shape': (3, 1), 'vdata': [1, 2, 3]}"
      ]
     },
     "execution_count": 15,
     "metadata": {},
     "output_type": "execute_result"
    }
   ],
   "source": [
    "Vector([1,2,3]).__dict__"
   ]
  },
  {
   "cell_type": "code",
   "execution_count": 16,
   "metadata": {},
   "outputs": [
    {
     "data": {
      "text/plain": [
       "Vector([1, 2, 3])"
      ]
     },
     "execution_count": 16,
     "metadata": {},
     "output_type": "execute_result"
    }
   ],
   "source": [
    "vec = Vector([1,2,3])\n",
    "vec"
   ]
  },
  {
   "cell_type": "markdown",
   "metadata": {},
   "source": [
    "### Suma de Vectores"
   ]
  },
  {
   "cell_type": "code",
   "execution_count": 17,
   "metadata": {},
   "outputs": [
    {
     "data": {
      "text/plain": [
       "Vector([6, 0, 3])"
      ]
     },
     "execution_count": 17,
     "metadata": {},
     "output_type": "execute_result"
    }
   ],
   "source": [
    "Vector([1,2,3]) + Vector([5,-2,0])"
   ]
  },
  {
   "cell_type": "markdown",
   "metadata": {},
   "source": [
    "### Suma de Vector + Escalar"
   ]
  },
  {
   "cell_type": "code",
   "execution_count": 18,
   "metadata": {},
   "outputs": [
    {
     "data": {
      "text/plain": [
       "Vector([6, 7, 8])"
      ]
     },
     "execution_count": 18,
     "metadata": {},
     "output_type": "execute_result"
    }
   ],
   "source": [
    "(vec + 10) - 5"
   ]
  },
  {
   "cell_type": "markdown",
   "metadata": {},
   "source": [
    "# Matriz & Vector"
   ]
  },
  {
   "cell_type": "code",
   "execution_count": 19,
   "metadata": {},
   "outputs": [
    {
     "data": {
      "text/plain": [
       "Vector([10, 32, 50])"
      ]
     },
     "execution_count": 19,
     "metadata": {},
     "output_type": "execute_result"
    }
   ],
   "source": [
    "MV = A * vec\n",
    "MV"
   ]
  }
 ],
 "metadata": {
  "kernelspec": {
   "display_name": "Python 3",
   "language": "python",
   "name": "python3"
  },
  "language_info": {
   "codemirror_mode": {
    "name": "ipython",
    "version": 3
   },
   "file_extension": ".py",
   "mimetype": "text/x-python",
   "name": "python",
   "nbconvert_exporter": "python",
   "pygments_lexer": "ipython3",
   "version": "3.6.1"
  }
 },
 "nbformat": 4,
 "nbformat_minor": 2
}
