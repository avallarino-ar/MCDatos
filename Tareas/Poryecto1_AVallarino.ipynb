{
 "cells": [
  {
   "cell_type": "markdown",
   "metadata": {},
   "source": [
    "# Creando una sistema de Algebra Lineal"
   ]
  },
  {
   "cell_type": "code",
   "execution_count": 1,
   "metadata": {
    "collapsed": true
   },
   "outputs": [],
   "source": [
    "import numpy as np    # Importo librería NumPy como np"
   ]
  },
  {
   "cell_type": "markdown",
   "metadata": {},
   "source": [
    "### Creo clase con métodos para realizar operaciones de álgebra lineal con vectores y matrices"
   ]
  },
  {
   "cell_type": "code",
   "execution_count": 2,
   "metadata": {},
   "outputs": [],
   "source": [
    "class Array:\n",
    "    #----------[ Metodo constructor y validador:\n",
    "    def __init__(self, list_of_rows): \n",
    "        \"Constructor y validador\"\n",
    "        # obtener dimensiones\n",
    "        self.data = list_of_rows\n",
    "        nrow = len(list_of_rows)\n",
    "        \n",
    "        #  ___caso vector: redimensionar correctamente\n",
    "        if not isinstance(list_of_rows[0], list):\n",
    "            nrow = 1\n",
    "            self.data = [[x] for x in list_of_rows]\n",
    "        \n",
    "        # ahora las columnas deben estar bien aunque sea un vector\n",
    "        ncol = len(self.data[0])\n",
    "        self.shape = (nrow, ncol)\n",
    "        \n",
    "        # validar tamano correcto de filas\n",
    "        if any([len(r) != ncol for r in self.data]):\n",
    "            raise Exception(\"Las filas deben ser del mismo tamano\")\n",
    "    #---------- Metodo constructor y validador ].\n",
    "    \n",
    "    \n",
    "    #----------[ Metodo para imprimir sin función Print:\n",
    "    def __repr__(self):\n",
    "        rows = self.shape[0]\n",
    "        data_out = \"array([\"\n",
    "        for i in range(rows):\n",
    "            if i == (rows - 1):\n",
    "                data_out += \"       \" + str(self.data[i]) + \"])\"\n",
    "            elif i != 0:\n",
    "                data_out += \"       \" + str(self.data[i]) + \",\" + \"\\n\"\n",
    "            else:\n",
    "                data_out += str(self.data[i]) + \",\" + \"\\n\"\n",
    "            \n",
    "        return (data_out)\n",
    "    #---------- Metodo para imprimir sin función Print ].\n",
    "\n",
    "\n",
    "    #----------[ Metodo para imprimir con función Print: \n",
    "    def __str__(self):\n",
    "        rows = self.shape[0]\n",
    "        data_out = \"[\"\n",
    "        for i in range(rows):\n",
    "            if i == (rows - 1):\n",
    "                data_out += \" \" + str(self.data[i]) + \"]\"\n",
    "            elif i != 0:\n",
    "                data_out += \" \" + str(self.data[i]) + \"\\n\"\n",
    "            else:\n",
    "                data_out += str(self.data[i]) + \"\\n\"\n",
    "            \n",
    "        return (data_out)\n",
    "    #---------- Metodo para imprimir con función Print ].\n",
    "    \n",
    "    \n",
    "    #----------[ Metodo para obtener un item: \n",
    "    def __getitem__(self, idx, ini=0):\n",
    "        if ini == 0:\n",
    "            return self.data[idx[0]][idx[1]]\n",
    "        else:\n",
    "            return self.data[(idx[0] - 1)][(idx[1] -1) ]\n",
    "    #---------- Metodo para obtener un item ].\n",
    "    \n",
    "    \n",
    "    #----------[ Metodo para modificar un item:\n",
    "    def __setitem__(self, idx, new_value, ini=0):\n",
    "        if ini == 0:\n",
    "            self.data[idx[0]][idx[1]] = new_value\n",
    "        else:\n",
    "            self.data[(idx[0] - 1)][(idx[1] -1)] = new_value\n",
    "        \n",
    "        return new_value\n",
    "    #---------- Metodo para modificar un item ].\n",
    "    \n",
    "\n",
    "    #----------[ Metodo para generar la matriz transpuesta:\n",
    "    def transpose(self):\n",
    "        nrow, ncol = self.shape\n",
    "        newArray = Array([[0. for c in range(ncol)] for r in range(nrow)])\n",
    "        for i in range(nrow):            \n",
    "            for j in range(ncol):\n",
    "                newArray.data[j][i] = self.data[i][j]\n",
    "\n",
    "        return(newArray)\n",
    "    #---------- Metodo para generar la matriz transpuesta ].\n",
    "    \n",
    "    \n",
    "    #----------[ Metodo para sumar arrays:\n",
    "    def __add__(self, other):\n",
    "        if isinstance(other, Array):\n",
    "            if self.shape != other.shape:\n",
    "                raise Exception(\"Las dimensiones son distintas!\")\n",
    "            rows, cols = self.shape\n",
    "            newArray = Array([[0. for c in range(cols)] for r in range(rows)])\n",
    "            for r in range(rows):\n",
    "                for c in range(cols):\n",
    "                    newArray.data[r][c] = self.data[r][c] + other.data[r][c]\n",
    "            return newArray\n",
    "        elif isinstance(2, (int, float, complex)): # en caso de que el lado derecho sea solo un numero\n",
    "            rows, cols = self.shape\n",
    "            newArray = Array([[0. for c in range(cols)] for r in range(rows)])\n",
    "            for r in range(rows):\n",
    "                for c in range(cols):\n",
    "                    newArray.data[r][c] = self.data[r][c] + other\n",
    "            return newArray\n",
    "        else:\n",
    "            return NotImplemented # es un tipo de error particular usado en estos metodos\n",
    "    #---------- Metodo para sumar arrays ].\n",
    "\n",
    "    \n",
    "    #----------[ Metodo para restar arrays:\n",
    "    def __sub__(self, other):\n",
    "        if isinstance(other, Array):\n",
    "            if self.shape != other.shape:\n",
    "                raise Exception(\"Las dimensiones son distintas!\")\n",
    "            rows, cols = self.shape\n",
    "            newArray = Array([[0. for c in range(cols)] for r in range(rows)])\n",
    "            for r in range(rows):\n",
    "                for c in range(cols):\n",
    "                    newArray.data[r][c] = self.data[r][c] - other.data[r][c]\n",
    "            return newArray\n",
    "        elif isinstance(2, (int, float, complex)): # en caso de que el lado derecho sea solo un numero\n",
    "            rows, cols = self.shape\n",
    "            newArray = Array([[0. for c in range(cols)] for r in range(rows)])\n",
    "            for r in range(rows):\n",
    "                for c in range(cols):\n",
    "                    newArray.data[r][c] = self.data[r][c] - other\n",
    "            return newArray\n",
    "        else:\n",
    "            return NotImplemented # es un tipo de error particular usado en estos metodos\n",
    "    #---------- Metodo para restar arrays ].\n",
    "    \n",
    "    \n",
    "    #----------[ Metodo para sumar arrays:\n",
    "    def __mul__(self, other):\n",
    "        pass\n",
    "    #---------- Metodo para sumar arrays ].\n",
    "\n",
    "    \n",
    "#----------[ Función para crear Matriz de Ceros:\n",
    "def zeros(shape):\n",
    "    list_of_rows = []\n",
    "    for i in range(shape[0]):\n",
    "        list_of_rows.append([0 for x in range(shape[1])]) \n",
    "              \n",
    "    return(list_of_rows)\n",
    "#---------- Función para crear Matriz de Ceros ].\n",
    "\n",
    "\n",
    "#----------[ Función para crear Matriz Identidad:\n",
    "def eye(n,k=0):\n",
    "    list_of_rows = []\n",
    "    for i in range(n):\n",
    "        list_of_zeros = [0 for x in range(n)]\n",
    "        # Calculo indice para generar matriz identiad:\n",
    "        idx = (i + k)   \n",
    "        if (idx >= 0) & (idx <= (n - 1)):\n",
    "            # Asigno 1 a la pos. determinada\n",
    "            list_of_zeros[idx] = 1      \n",
    "        \n",
    "        list_of_rows.append(list_of_zeros)     \n",
    "              \n",
    "    return(list_of_rows)\n",
    "#---------- Función para crear Matriz Identidad ]."
   ]
  },
  {
   "cell_type": "code",
   "execution_count": 3,
   "metadata": {},
   "outputs": [
    {
     "data": {
      "text/plain": [
       "{'data': [[1, 2, 3], [4, 5, 6], [7, 8, 9]], 'shape': (3, 3)}"
      ]
     },
     "execution_count": 3,
     "metadata": {},
     "output_type": "execute_result"
    }
   ],
   "source": [
    "A = Array([[1,2,3], [4,5,6],[7,8,9]])\n",
    "A.__dict__     # el campo escondido __dict__ permite acceder a las propiedades de clase de un objeto"
   ]
  },
  {
   "cell_type": "code",
   "execution_count": 4,
   "metadata": {},
   "outputs": [
    {
     "data": {
      "text/plain": [
       "[[1, 2, 3], [4, 5, 6], [7, 8, 9]]"
      ]
     },
     "execution_count": 4,
     "metadata": {},
     "output_type": "execute_result"
    }
   ],
   "source": [
    "A.data"
   ]
  },
  {
   "cell_type": "code",
   "execution_count": 5,
   "metadata": {},
   "outputs": [
    {
     "data": {
      "text/plain": [
       "(3, 3)"
      ]
     },
     "execution_count": 5,
     "metadata": {},
     "output_type": "execute_result"
    }
   ],
   "source": [
    "A.shape"
   ]
  },
  {
   "cell_type": "code",
   "execution_count": 6,
   "metadata": {},
   "outputs": [
    {
     "data": {
      "text/plain": [
       "array([[1, 2, 3],\n",
       "       [4, 5, 6],\n",
       "       [7, 8, 9]])"
      ]
     },
     "execution_count": 6,
     "metadata": {},
     "output_type": "execute_result"
    }
   ],
   "source": [
    "A"
   ]
  },
  {
   "cell_type": "code",
   "execution_count": 7,
   "metadata": {},
   "outputs": [
    {
     "name": "stdout",
     "output_type": "stream",
     "text": [
      "[[1, 2, 3]\n",
      " [4, 5, 6]\n",
      " [7, 8, 9]]\n"
     ]
    }
   ],
   "source": [
    "print(A)"
   ]
  },
  {
   "cell_type": "code",
   "execution_count": 8,
   "metadata": {},
   "outputs": [
    {
     "data": {
      "text/plain": [
       "5"
      ]
     },
     "execution_count": 8,
     "metadata": {},
     "output_type": "execute_result"
    }
   ],
   "source": [
    "A.__getitem__([1,1])"
   ]
  },
  {
   "cell_type": "code",
   "execution_count": 9,
   "metadata": {},
   "outputs": [
    {
     "data": {
      "text/plain": [
       "5"
      ]
     },
     "execution_count": 9,
     "metadata": {},
     "output_type": "execute_result"
    }
   ],
   "source": [
    "A.__setitem__([2,2],5,1)"
   ]
  },
  {
   "cell_type": "code",
   "execution_count": 10,
   "metadata": {},
   "outputs": [
    {
     "data": {
      "text/plain": [
       "array([[1, 2, 3],\n",
       "       [4, 5, 6],\n",
       "       [7, 8, 9]])"
      ]
     },
     "execution_count": 10,
     "metadata": {},
     "output_type": "execute_result"
    }
   ],
   "source": [
    "A"
   ]
  },
  {
   "cell_type": "code",
   "execution_count": 11,
   "metadata": {},
   "outputs": [
    {
     "data": {
      "text/plain": [
       "[[0, 0], [0, 0]]"
      ]
     },
     "execution_count": 11,
     "metadata": {},
     "output_type": "execute_result"
    }
   ],
   "source": [
    "z = zeros((2,2))\n",
    "z"
   ]
  },
  {
   "cell_type": "code",
   "execution_count": 12,
   "metadata": {
    "collapsed": true
   },
   "outputs": [],
   "source": [
    "c = Array(zeros((2,2)))"
   ]
  },
  {
   "cell_type": "code",
   "execution_count": 13,
   "metadata": {},
   "outputs": [
    {
     "data": {
      "text/plain": [
       "array([[0, 0],\n",
       "       [0, 0]])"
      ]
     },
     "execution_count": 13,
     "metadata": {},
     "output_type": "execute_result"
    }
   ],
   "source": [
    "c"
   ]
  },
  {
   "cell_type": "code",
   "execution_count": 14,
   "metadata": {},
   "outputs": [
    {
     "data": {
      "text/plain": [
       "array([[1, 0, 0, 0],\n",
       "       [0, 1, 0, 0],\n",
       "       [0, 0, 1, 0],\n",
       "       [0, 0, 0, 1]])"
      ]
     },
     "execution_count": 14,
     "metadata": {},
     "output_type": "execute_result"
    }
   ],
   "source": [
    "d = Array(eye(4,k=0))\n",
    "d"
   ]
  },
  {
   "cell_type": "code",
   "execution_count": 15,
   "metadata": {},
   "outputs": [
    {
     "data": {
      "text/plain": [
       "array([[1, 2, 3],\n",
       "       [4, 5, 6],\n",
       "       [7, 8, 9]])"
      ]
     },
     "execution_count": 15,
     "metadata": {},
     "output_type": "execute_result"
    }
   ],
   "source": [
    "A"
   ]
  },
  {
   "cell_type": "code",
   "execution_count": 16,
   "metadata": {},
   "outputs": [
    {
     "data": {
      "text/plain": [
       "array([[1, 4, 7],\n",
       "       [2, 5, 8],\n",
       "       [3, 6, 9]])"
      ]
     },
     "execution_count": 16,
     "metadata": {},
     "output_type": "execute_result"
    }
   ],
   "source": [
    "T = A.transpose()\n",
    "T"
   ]
  },
  {
   "cell_type": "code",
   "execution_count": 17,
   "metadata": {},
   "outputs": [
    {
     "data": {
      "text/plain": [
       "array([[2, 6, 10],\n",
       "       [6, 10, 14],\n",
       "       [10, 14, 18]])"
      ]
     },
     "execution_count": 17,
     "metadata": {},
     "output_type": "execute_result"
    }
   ],
   "source": [
    "sum = A + T\n",
    "sum"
   ]
  },
  {
   "cell_type": "code",
   "execution_count": 18,
   "metadata": {},
   "outputs": [],
   "source": [
    "mult = A * T\n",
    "mult"
   ]
  }
 ],
 "metadata": {
  "kernelspec": {
   "display_name": "Python 3",
   "language": "python",
   "name": "python3"
  },
  "language_info": {
   "codemirror_mode": {
    "name": "ipython",
    "version": 3
   },
   "file_extension": ".py",
   "mimetype": "text/x-python",
   "name": "python",
   "nbconvert_exporter": "python",
   "pygments_lexer": "ipython3",
   "version": "3.6.1"
  }
 },
 "nbformat": 4,
 "nbformat_minor": 2
}
